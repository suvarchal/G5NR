{
 "cells": [
  {
   "cell_type": "code",
   "execution_count": 1,
   "metadata": {
    "collapsed": true
   },
   "outputs": [],
   "source": [
    "%matplotlib inline"
   ]
  },
  {
   "cell_type": "code",
   "execution_count": 2,
   "metadata": {
    "collapsed": true
   },
   "outputs": [],
   "source": [
    "import xarray as xr\n",
    "import numpy as np\n",
    "import matplotlib.pyplot as plt"
   ]
  },
  {
   "cell_type": "code",
   "execution_count": 3,
   "metadata": {
    "collapsed": false
   },
   "outputs": [],
   "source": [
    "inputPath = '/data2/niznik/dlVars_3D/'\n",
    "uInputFile = inputPath+'U_r90x45.nc4'\n",
    "vInputFile = inputPath+'V_r90x45.nc4'\n",
    "wInputFile = inputPath+'W_r90x45.nc4'\n",
    "wuwvInputFile = '/data2/suvarchal/G5NR/wv_and_wu_4deg.nc4'\n",
    "TInputFile = '/data2/suvarchal/G5NR/T_r90x45_1time.nc4'"
   ]
  },
  {
   "cell_type": "code",
   "execution_count": 38,
   "metadata": {
    "collapsed": false
   },
   "outputs": [],
   "source": [
    "#uvw_da=xr.open_mfdataset([uInputFile,vInputFile,wInputFile,wuwvInputFile]) #not used but should be more efficient"
   ]
  },
  {
   "cell_type": "code",
   "execution_count": 5,
   "metadata": {
    "collapsed": false
   },
   "outputs": [],
   "source": [
    "u_da=xr.open_dataset(uInputFile,chunks={'time':100})\n",
    "v_da=xr.open_dataset(vInputFile,chunks={'time':100})\n",
    "w_da=xr.open_dataset(wInputFile,chunks={'time':100})\n",
    "wuwv_da=xr.open_dataset(wuwvInputFile,chunks={'time':100})\n",
    "T_da=xr.open_dataset(TInputFile)"
   ]
  },
  {
   "cell_type": "code",
   "execution_count": 55,
   "metadata": {
    "collapsed": true
   },
   "outputs": [],
   "source": [
    "u = u_da['U'][0:2,:,:,:]\n",
    "v = v_da['V'][0:2,:,:,:]\n",
    "w = w_da['W'][0:2,:,:,:]\n",
    "wu = wuwv_da['WU'][0:2,:,:,:]\n",
    "wv = wuwv_da['WV'][0:2,:,:,:]"
   ]
  },
  {
   "cell_type": "code",
   "execution_count": 6,
   "metadata": {
    "collapsed": true
   },
   "outputs": [],
   "source": [
    "P=u_da.lev*100.0 #convert Pressure to Pa and is ordered top down"
   ]
  },
  {
   "cell_type": "code",
   "execution_count": 7,
   "metadata": {
    "collapsed": false
   },
   "outputs": [],
   "source": [
    "dPbyg=np.gradient(P)/9.8\n",
    "dPbyg=xr.DataArray(dPbyg,coords={'lev':u_da.lev})"
   ]
  },
  {
   "cell_type": "code",
   "execution_count": 8,
   "metadata": {
    "collapsed": false
   },
   "outputs": [],
   "source": [
    "rho=(1/(T_da['T'][0,:,:,:]*287.06))*P #kg/m3 #checked by plotting rho[47,:,:].plot.contourf()"
   ]
  },
  {
   "cell_type": "code",
   "execution_count": 59,
   "metadata": {
    "collapsed": true
   },
   "outputs": [],
   "source": [
    "Eddy_Flux_Zon = (wu - u*w)*rho\n",
    "Eddy_Flux_Mer = (wv - v*w)*rho\n",
    "Eddy_Flux_Zon.name='Eddy_Flux_Zon'\n",
    "Eddy_Flux_Mer.name='Eddy_Flux_Mer'\n",
    "#make it a dataset for easy function application on all variables \n",
    "Eddy_Flux=xr.merge([Eddy_Flux_Zon,Eddy_Flux_Mer]) "
   ]
  },
  {
   "cell_type": "code",
   "execution_count": 60,
   "metadata": {
    "collapsed": false
   },
   "outputs": [],
   "source": [
    "axisint=1 if len(np.shape(Eddy_Flux_Zon))>3 else 0\n",
    "Eddy_Flux_Tend=Eddy_Flux.apply(np.gradient,axis=axisint)\n",
    "Eddy_Flux_Tend=Eddy_Flux_Tend/dPbyg"
   ]
  },
  {
   "cell_type": "code",
   "execution_count": 61,
   "metadata": {
    "collapsed": false
   },
   "outputs": [],
   "source": [
    "u_baro=(rho*u).sum(dim='lev')/rho.sum(dim='lev')\n",
    "v_baro=(rho*v).sum(dim='lev')/rho.sum(dim='lev')"
   ]
  },
  {
   "cell_type": "code",
   "execution_count": 62,
   "metadata": {
    "collapsed": false
   },
   "outputs": [],
   "source": [
    "ushear=u-u_baro\n",
    "vshear=v-v_baro #checked for handling of missing values\n",
    "SKE=ushear*ushear+vshear*vshear\n",
    "SKE=SKE.sum(dim='lev')/rho.sum(dim='lev')\n",
    "SKE.name='SKE'\n",
    "SKE.attrs={'long_name':'SKE','units':'J Kg^-1'}"
   ]
  },
  {
   "cell_type": "code",
   "execution_count": 63,
   "metadata": {
    "collapsed": false
   },
   "outputs": [],
   "source": [
    "SKEDOT=(Eddy_Flux['Eddy_Flux_Zon']*ushear/dPbyg + Eddy_Flux['Eddy_Flux_Mer']*vshear/dPbyg).sum(dim='lev')\n",
    "SKEDOT.name='SKEDOT'\n",
    "SKEDOT.attrs={'long_name':'dp/g Integral(-d/dp([uw]-[u][w])*u_shear - d/dp([vw]-[v][w])*v_shear)','units':'W m-2'}\n",
    "#SKEDOT.plot.contourf() checked"
   ]
  },
  {
   "cell_type": "code",
   "execution_count": 64,
   "metadata": {
    "collapsed": false
   },
   "outputs": [],
   "source": [
    "KEDOT=(Eddy_Flux['Eddy_Flux_Zon']*u/dPbyg + Eddy_Flux['Eddy_Flux_Mer']*v/dPbyg).sum(dim='lev')\n",
    "KEDOT.name='KEDOT'\n",
    "KEDOT.attrs={'long_name':'Integral(-d/dp([uw]-[u][w])*u - d/dp([vw]-[v][w])*v)','units':'W m-2'}"
   ]
  },
  {
   "cell_type": "code",
   "execution_count": 65,
   "metadata": {
    "collapsed": false
   },
   "outputs": [
    {
     "data": {
      "text/plain": [
       "<matplotlib.contour.QuadContourSet at 0x7f97180c54d0>"
      ]
     },
     "execution_count": 65,
     "metadata": {},
     "output_type": "execute_result"
    },
    {
     "data": {
      "image/png": "[encoded data removed]",
      "text/plain": [
       "<matplotlib.figure.Figure at 0x7f9718069790>"
      ]
     },
     "metadata": {},
     "output_type": "display_data"
    }
   ],
   "source": [
    "KEDOT[99,:,:].plot.contourf()"
   ]
  },
  {
   "cell_type": "code",
   "execution_count": 41,
   "metadata": {
    "collapsed": false
   },
   "outputs": [
    {
     "data": {
      "text/plain": [
       "<matplotlib.contour.QuadContourSet at 0x7f11be19c250>"
      ]
     },
     "execution_count": 41,
     "metadata": {},
     "output_type": "execute_result"
    },
    {
     "data": {
      "image/png": "[encoded data removed]",
      "text/plain": [
       "<matplotlib.figure.Figure at 0x7f11be2d7f50>"
      ]
     },
     "metadata": {},
     "output_type": "display_data"
    }
   ],
   "source": [
    "skeoldfile.SKE[0,:,:].plot.contourf(title='SKEOLD')"
   ]
  },
  {
   "cell_type": "code",
   "execution_count": 37,
   "metadata": {
    "collapsed": false
   },
   "outputs": [
    {
     "data": {
      "text/plain": [
       "<matplotlib.contour.QuadContourSet at 0x7f11be3f4710>"
      ]
     },
     "execution_count": 37,
     "metadata": {},
     "output_type": "execute_result"
    },
    {
     "data": {
      "image/png": "[encoded data removed]",
      "text/plain": [
       "<matplotlib.figure.Figure at 0x7f11be4a4a90>"
      ]
     },
     "metadata": {},
     "output_type": "display_data"
    }
   ],
   "source": [
    "SKE.plot.contourf()"
   ]
  },
  {
   "cell_type": "code",
   "execution_count": 12,
   "metadata": {
    "collapsed": false
   },
   "outputs": [],
   "source": [
    "start=[i*1000 for i in xrange(len(u_da.time)/1000,1000) if i*1000<len(u_da.time)]"
   ]
  },
  {
   "cell_type": "code",
   "execution_count": 10,
   "metadata": {
    "collapsed": false
   },
   "outputs": [],
   "source": [
    "import itertools\n",
    "import datetime\n",
    "t1=datetime.datetime.now()"
   ]
  },
  {
   "cell_type": "code",
   "execution_count": 11,
   "metadata": {
    "collapsed": false
   },
   "outputs": [
    {
     "name": "stdout",
     "output_type": "stream",
     "text": [
      "end of 0 time elapsed 364.618628\n",
      "end of 1000 time elapsed 628.834319\n",
      "end of 2000 time elapsed 909.069966\n",
      "end of 3000 time elapsed 1219.436785\n",
      "end of 4000 time elapsed 1539.732608\n",
      "end of 5000 time elapsed 1989.028938\n",
      "end of 6000 time elapsed 2202.287205\n",
      "end of 7000 time elapsed 2661.985895\n",
      "end of 8000 time elapsed 3379.700148\n",
      "end of 9000 time elapsed 4156.871724\n",
      "end of 10000 time elapsed 4723.012475\n",
      "end of 11000 time elapsed 4916.266024\n",
      "end of 12000 time elapsed 5033.807868\n",
      "end of 13000 time elapsed 5143.888758\n",
      "end of 14000 time elapsed 5258.264331\n",
      "end of 15000 time elapsed 5375.97191\n",
      "end of 16000 time elapsed 5539.89905\n",
      "end of 17000 time elapsed 5726.26896\n",
      "end of 18000 time elapsed 5792.787086\n"
     ]
    }
   ],
   "source": [
    "t1=datetime.datetime.now()\n",
    "for start,stop in itertools.izip(range(len(u_da.time))[0::1000],range(len(u_da.time))[1000::1000]+[len(u_da.time)]):\n",
    "    u = u_da['U'][start:stop,:,:,:]\n",
    "    v = v_da['V'][start:stop,:,:,:]\n",
    "    w = w_da['W'][start:stop,:,:,:]\n",
    "    wu = wuwv_da['WU'][start:stop,:,:,:]\n",
    "    wv = wuwv_da['WV'][start:stop,:,:,:]\n",
    "    \n",
    "    Eddy_Flux_Zon = (wu - u*w)*rho\n",
    "    Eddy_Flux_Mer = (wv - v*w)*rho\n",
    "    Eddy_Flux_Zon.name='Eddy_Flux_Zon'\n",
    "    Eddy_Flux_Mer.name='Eddy_Flux_Mer'\n",
    "    Eddy_Flux=xr.merge([Eddy_Flux_Zon,Eddy_Flux_Mer]) \n",
    "    axisint=1\n",
    "    Eddy_Flux_Tend=Eddy_Flux.apply(np.gradient,axis=axisint)\n",
    "    Eddy_Flux_Tend=Eddy_Flux_Tend/dPbyg\n",
    "    u_baro=(rho*u).sum(dim='lev')/rho.sum(dim='lev')\n",
    "    v_baro=(rho*v).sum(dim='lev')/rho.sum(dim='lev')\n",
    "    ushear=u-u_baro\n",
    "    vshear=v-v_baro #checked for handling of missing values\n",
    "    SKE=ushear*ushear+vshear*vshear\n",
    "    SKE=SKE.sum(dim='lev')/rho.sum(dim='lev')\n",
    "    SKE.name='SKE'\n",
    "    SKE.attrs={'long_name':'SKE','units':'J Kg^-1'}\n",
    "    SKEDOT=(Eddy_Flux['Eddy_Flux_Zon']*ushear/dPbyg + Eddy_Flux['Eddy_Flux_Mer']*vshear/dPbyg).sum(dim='lev')\n",
    "    SKEDOT.name='SKEDOT'\n",
    "    SKEDOT.attrs={'long_name':'dp/g Integral(-d/dp([uw]-[u][w])*u_shear - d/dp([vw]-[v][w])*v_shear)','units':'W m-2'}\n",
    "    KEDOT=(Eddy_Flux['Eddy_Flux_Zon']*u/dPbyg + Eddy_Flux['Eddy_Flux_Mer']*v/dPbyg).sum(dim='lev')\n",
    "    KEDOT.name='KEDOT'\n",
    "    KEDOT.attrs={'long_name':'Integral(-d/dp([uw]-[u][w])*u - d/dp([vw]-[v][w])*v)','units':'W m-2'}\n",
    "    xr.merge([KEDOT,SKEDOT,SKE]).to_netcdf('/data2/suvarchal/G5NR/SKE_testX_'+str(format(start,'05'))+'.nc')\n",
    "    print \"end of \"+str(start)+\" time elapsed \"+str((datetime.datetime.now()-t1).total_seconds())"
   ]
  }
 ],
 "metadata": {
  "anaconda-cloud": {},
  "kernelspec": {
   "display_name": "Python [default]",
   "language": "python",
   "name": "python2"
  },
  "language_info": {
   "codemirror_mode": {
    "name": "ipython",
    "version": 2
   },
   "file_extension": ".py",
   "mimetype": "text/x-python",
   "name": "python",
   "nbconvert_exporter": "python",
   "pygments_lexer": "ipython2",
   "version": "2.7.11"
  }
 },
 "nbformat": 4,
 "nbformat_minor": 0
}
