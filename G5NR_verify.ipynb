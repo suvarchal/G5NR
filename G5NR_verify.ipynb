{
 "cells": [
  {
   "cell_type": "code",
   "execution_count": 1,
   "metadata": {
    "collapsed": true
   },
   "outputs": [],
   "source": [
    "%matplotlib inline"
   ]
  },
  {
   "cell_type": "code",
   "execution_count": 2,
   "metadata": {
    "collapsed": true
   },
   "outputs": [],
   "source": [
    "import xarray as xr\n",
    "import numpy as np\n",
    "import matplotlib.pyplot as plt"
   ]
  },
  {
   "cell_type": "code",
   "execution_count": 3,
   "metadata": {
    "collapsed": false
   },
   "outputs": [],
   "source": [
    "inputPath = '/data2/niznik/dlVars_3D/'\n",
    "uInputFile = inputPath+'U_r90x45.nc4'\n",
    "vInputFile = inputPath+'V_r90x45.nc4'\n",
    "wInputFile = inputPath+'W_r90x45.nc4'\n",
    "wuwvInputFile = '/data2/suvarchal/G5NR/wv_and_wu_4deg.nc4'\n",
    "TInputFile = '/data2/suvarchal/G5NR/T_r90x45_1time.nc4'"
   ]
  },
  {
   "cell_type": "code",
   "execution_count": 4,
   "metadata": {
    "collapsed": false
   },
   "outputs": [],
   "source": [
    "#uvw_da=xr.open_mfdataset([uInputFile,vInputFile,wInputFile,wuwvInputFile]) #not used but should be more efficient"
   ]
  },
  {
   "cell_type": "code",
   "execution_count": 5,
   "metadata": {
    "collapsed": false
   },
   "outputs": [],
   "source": [
    "u_da=xr.open_dataset(uInputFile)\n",
    "v_da=xr.open_dataset(vInputFile)\n",
    "w_da=xr.open_dataset(wInputFile)\n",
    "wuwv_da=xr.open_dataset(wuwvInputFile)\n",
    "T_da=xr.open_dataset(TInputFile)"
   ]
  },
  {
   "cell_type": "code",
   "execution_count": 6,
   "metadata": {
    "collapsed": true
   },
   "outputs": [],
   "source": [
    "u = u_da['U'][0,:,:,:]\n",
    "v = v_da['V'][0,:,:,:]\n",
    "w = w_da['W'][0,:,:,:]\n",
    "wu = wuwv_da['WU'][0,:,:,:]\n",
    "wv = wuwv_da['WV'][0,:,:,:]"
   ]
  },
  {
   "cell_type": "code",
   "execution_count": 7,
   "metadata": {
    "collapsed": true
   },
   "outputs": [],
   "source": [
    "P=u_da.lev*100.0 #convert Pressure to Pa and is ordered top down"
   ]
  },
  {
   "cell_type": "code",
   "execution_count": 8,
   "metadata": {
    "collapsed": false
   },
   "outputs": [],
   "source": [
    "dPbyg=np.gradient(P)/9.8\n",
    "dPbyg=xr.DataArray(dPbyg,coords={'lev':u_da.lev})"
   ]
  },
  {
   "cell_type": "code",
   "execution_count": 9,
   "metadata": {
    "collapsed": false
   },
   "outputs": [],
   "source": [
    "rho=(1/(T_da['T'][0,:,:,:]*287.06))*P #kg/m3 #checked by plotting rho[47,:,:].plot.contourf()"
   ]
  },
  {
   "cell_type": "code",
   "execution_count": 10,
   "metadata": {
    "collapsed": true
   },
   "outputs": [],
   "source": [
    "Eddy_Flux_Zon = (wu - u*w)*rho\n",
    "Eddy_Flux_Mer = (wv - v*w)*rho\n",
    "Eddy_Flux_Zon.name='Eddy_Flux_Zon'\n",
    "Eddy_Flux_Mer.name='Eddy_Flux_Mer'\n",
    "#make it a dataset for easy function application on all variables \n",
    "Eddy_Flux=xr.merge([Eddy_Flux_Zon,Eddy_Flux_Mer]) "
   ]
  },
  {
   "cell_type": "code",
   "execution_count": 33,
   "metadata": {
    "collapsed": false
   },
   "outputs": [],
   "source": [
    "axisint=1 if len(np.shape(Eddy_Flux_Zon))>3 else 0\n",
    "Eddy_Flux_Tend=Eddy_Flux.apply(np.gradient,axis=axisint)\n",
    "Eddy_Flux_Tend=Eddy_Flux_Tend/dPbyg"
   ]
  },
  {
   "cell_type": "code",
   "execution_count": 12,
   "metadata": {
    "collapsed": false
   },
   "outputs": [],
   "source": [
    "u_baro=(rho*u).sum(dim='lev')/rho.sum(dim='lev')\n",
    "v_baro=(rho*v).sum(dim='lev')/rho.sum(dim='lev')"
   ]
  },
  {
   "cell_type": "code",
   "execution_count": 19,
   "metadata": {
    "collapsed": false
   },
   "outputs": [],
   "source": [
    "ushear=u-u_baro\n",
    "vshear=v-v_baro #checked for handling of missing values\n",
    "SKE=ushear*ushear+vshear*vshear\n",
    "SKE=SKE.sum(dim='lev')/rho.sum(dim='lev')\n",
    "SKE.name='SKE'\n",
    "SKE.attrs={'long_name':'SKE','units':'J Kg^-1'}"
   ]
  },
  {
   "cell_type": "code",
   "execution_count": 23,
   "metadata": {
    "collapsed": false
   },
   "outputs": [],
   "source": [
    "SKEDOT=(Eddy_Flux['Eddy_Flux_Zon']*ushear/dPbyg + Eddy_Flux['Eddy_Flux_Mer']*vshear/dPbyg).sum(dim='lev')\n",
    "SKEDOT.name='SKEDOT'\n",
    "SKEDOT.attrs={'long_name':'dp/g Integral(-d/dp([uw]-[u][w])*u_shear - d/dp([vw]-[v][w])*v_shear)','units':'W m-2'}\n",
    "#SKEDOT.plot.contourf() checked"
   ]
  },
  {
   "cell_type": "code",
   "execution_count": 21,
   "metadata": {
    "collapsed": false
   },
   "outputs": [],
   "source": [
    "KEDOT=(Eddy_Flux['Eddy_Flux_Zon']*u/dPbyg + Eddy_Flux['Eddy_Flux_Mer']*v/dPbyg).sum(dim='lev')\n",
    "KEDOT.name='KEDOT'\n",
    "KEDOT.attrs={'long_name':'Integral(-d/dp([uw]-[u][w])*u - d/dp([vw]-[v][w])*v)','units':'W m-2'}"
   ]
  },
  {
   "cell_type": "code",
   "execution_count": 16,
   "metadata": {
    "collapsed": false
   },
   "outputs": [
    {
     "data": {
      "text/plain": [
       "<matplotlib.contour.QuadContourSet at 0x7f11f808afd0>"
      ]
     },
     "execution_count": 16,
     "metadata": {},
     "output_type": "execute_result"
    },
    {
     "data": {
      "image/png": "[encoded data removed]",
      "text/plain": [
       "<matplotlib.figure.Figure at 0x7f12140cc5d0>"
      ]
     },
     "metadata": {},
     "output_type": "display_data"
    }
   ],
   "source": [
    "KEDOT.plot.contourf()"
   ]
  },
  {
   "cell_type": "code",
   "execution_count": 17,
   "metadata": {
    "collapsed": false
   },
   "outputs": [
    {
     "data": {
      "text/plain": [
       "<matplotlib.contour.QuadContourSet at 0x7f11bec7ed50>"
      ]
     },
     "execution_count": 17,
     "metadata": {},
     "output_type": "execute_result"
    },
    {
     "data": {
      "image/png": "[encoded data removed]",
      "text/plain": [
       "<matplotlib.figure.Figure at 0x7f11bed42610>"
      ]
     },
     "metadata": {},
     "output_type": "display_data"
    }
   ],
   "source": [
    "(SKEDOT-KEDOT).plot.contourf()"
   ]
  },
  {
   "cell_type": "code",
   "execution_count": 22,
   "metadata": {
    "collapsed": true
   },
   "outputs": [],
   "source": [
    "xr.merge([KEDOT,SKEDOT,SKE]).to_netcdf('/data2/suvarchal/G5NR/SKE_test.nc')"
   ]
  }
 ],
 "metadata": {
  "anaconda-cloud": {},
  "kernelspec": {
   "display_name": "Python [default]",
   "language": "python",
   "name": "python2"
  },
  "language_info": {
   "codemirror_mode": {
    "name": "ipython",
    "version": 2
   },
   "file_extension": ".py",
   "mimetype": "text/x-python",
   "name": "python",
   "nbconvert_exporter": "python",
   "pygments_lexer": "ipython2",
   "version": "2.7.11"
  }
 },
 "nbformat": 4,
 "nbformat_minor": 0
}
